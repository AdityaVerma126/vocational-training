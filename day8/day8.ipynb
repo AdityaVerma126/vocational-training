{
 "cells": [
  {
   "cell_type": "code",
   "execution_count": 2,
   "metadata": {},
   "outputs": [
    {
     "name": "stdout",
     "output_type": "stream",
     "text": [
      "mean square error 0.375\n"
     ]
    }
   ],
   "source": [
    "import numpy as np \n",
    "def mean_squared_error(y_true,y_pred):\n",
    "    return np.mean((y_true - y_pred)**2)\n",
    "y_true = np.array([3,-0.5,2,7])\n",
    "y_pred = np.array([2.5,-0.0,2,8])\n",
    "mse = mean_squared_error(y_true,y_pred)\n",
    "print('mean square error',mse)\n"
   ]
  },
  {
   "cell_type": "code",
   "execution_count": 3,
   "metadata": {},
   "outputs": [
    {
     "name": "stdout",
     "output_type": "stream",
     "text": [
      "mean absolute error 0.5\n"
     ]
    }
   ],
   "source": [
    "def mean_abolute_error(y_true,y_pred):\n",
    "    return np.mean(np.abs(y_true - y_pred))\n",
    "mae = mean_abolute_error(y_true,y_pred)\n",
    "print('mean absolute error',mae)\n",
    "\n",
    "\n"
   ]
  },
  {
   "cell_type": "code",
   "execution_count": 6,
   "metadata": {},
   "outputs": [
    {
     "name": "stdout",
     "output_type": "stream",
     "text": [
      "huber loss 0.1875\n"
     ]
    }
   ],
   "source": [
    "def hubber_loss(y_true,y_pred,delta =1):\n",
    "    error = y_true - y_pred\n",
    "    is_small_error = np.abs(error) <= delta\n",
    "    squared_loss = (error**2) / 2\n",
    "    linear_loss = delta * (np.abs(error) - (delta / 2))\n",
    "    return np.where(is_small_error, squared_loss, linear_loss).mean()\n",
    "\n",
    "huber = hubber_loss(y_true,y_pred,delta=1)\n",
    "print('huber loss',huber)\n"
   ]
  },
  {
   "cell_type": "code",
   "execution_count": 12,
   "metadata": {},
   "outputs": [
    {
     "name": "stdout",
     "output_type": "stream",
     "text": [
      "d 1e-15\n"
     ]
    }
   ],
   "source": [
    "d =1e-15\n",
    "print('d',d)"
   ]
  },
  {
   "cell_type": "code",
   "execution_count": 13,
   "metadata": {},
   "outputs": [
    {
     "name": "stdout",
     "output_type": "stream",
     "text": [
      "binary cross entropy 0.19763488164214868\n"
     ]
    }
   ],
   "source": [
    "def binary_cross_entropy(y_true, y_pred):\n",
    "    epsilon = 1e-15  # To avoid log(0)\n",
    "    y_pred = np.clip(y_pred, epsilon, 1 - epsilon)  # Clip predictions to avoid log(0)\n",
    "    return -np.mean(y_true * np.log(y_pred) + (1 - y_true) * np.log(1 - y_pred))\n",
    "\n",
    "y_true_binary = np.array([1, 0, 1, 1])\n",
    "y_pred_binary = np.array([0.9, 0.1, 0.8, 0.7])\n",
    "bce = binary_cross_entropy(y_true_binary, y_pred_binary)\n",
    "print('binary cross entropy', bce)\n"
   ]
  },
  {
   "cell_type": "code",
   "execution_count": 15,
   "metadata": {},
   "outputs": [
    {
     "name": "stdout",
     "output_type": "stream",
     "text": [
      "categorical cross entropy 0.11889164797957748\n"
     ]
    }
   ],
   "source": [
    "def categorical_cross_entropy(y_true, y_pred):\n",
    "    epsilon = 1e-15  # To avoid log(0)\n",
    "    y_pred = np.clip(y_pred, epsilon, 1 - epsilon)  # Clip predictions to avoid log(0)\n",
    "    return -np.sum(y_true * np.log(y_pred)) / y_true.shape[0]\n",
    "y_true_categorical = np.array([1,0,0])\n",
    "y_pred_categorical = np.array([0.7,0.2,0.1])\n",
    "cce = categorical_cross_entropy(y_true_categorical, y_pred_categorical)\n",
    "print('categorical cross entropy', cce)\n"
   ]
  },
  {
   "cell_type": "code",
   "execution_count": null,
   "metadata": {},
   "outputs": [],
   "source": []
  }
 ],
 "metadata": {
  "kernelspec": {
   "display_name": "Python 3",
   "language": "python",
   "name": "python3"
  },
  "language_info": {
   "codemirror_mode": {
    "name": "ipython",
    "version": 3
   },
   "file_extension": ".py",
   "mimetype": "text/x-python",
   "name": "python",
   "nbconvert_exporter": "python",
   "pygments_lexer": "ipython3",
   "version": "3.11.9"
  }
 },
 "nbformat": 4,
 "nbformat_minor": 2
}
