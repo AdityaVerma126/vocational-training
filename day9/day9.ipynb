{
 "cells": [
  {
   "cell_type": "code",
   "execution_count": null,
   "metadata": {},
   "outputs": [],
   "source": [
    "import numpy as np\n",
    "def step_function(x):\n",
    "    return 1 if x >= 0 else 0\n",
    "class Perceptron:\n",
    "    def __init__(self, input_size,learning_rate =0.1):\n",
    "        self.weights = np.zeros(input_size+1)\n",
    "        self.learning_rate = learning_rate\n",
    "       \n",
    "    def predict(self, x):\n",
    "        x_with_bias = np.insert(x, 0, 1)\n",
    "        return step_function(np.dot(x_with_bias, self.weights))\n",
    "    def train(self, x, y, epochs =10):\n",
    "        for _ in range(epochs):\n",
    "            for xi,label in zip(x,y):\n",
    "                prediction = self.predict(xi)\n",
    "                error = label - prediction\n",
    "                self.weights[1:] += self.learning_rate * error * xi\n",
    "                self.weights[0] += self.learning_rate * error\n",
    "            \n",
    "            "
   ]
  }
 ],
 "metadata": {
  "language_info": {
   "name": "python"
  }
 },
 "nbformat": 4,
 "nbformat_minor": 2
}
